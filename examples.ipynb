{
 "cells": [
  {
   "cell_type": "code",
   "execution_count": null,
   "id": "fa53ab26-cd3e-491d-b7d6-5536a830bd5f",
   "metadata": {
    "tags": []
   },
   "outputs": [],
   "source": [
    "import numpy as np\n",
    "import ziegler as tzz\n",
    "import matplotlib.pyplot as plt"
   ]
  },
  {
   "cell_type": "code",
   "execution_count": null,
   "id": "21c9c37e-9202-4467-9100-968414746978",
   "metadata": {
    "tags": []
   },
   "outputs": [],
   "source": [
    "\"\"\"\n",
    "Use my personal plotstyle defaults.\n",
    "THESE MAY CHANGE IN FUTURE VERSIONS OF THE LIBRARY.\n",
    "\"\"\"\n",
    "\n",
    "t = np.arange(0, 2*np.pi,0.01)\n",
    "\n",
    "fig = tzz.Figure(column_widths=[1,1], row_heights=[2,1],aspect_ratio=2/3, inner_margin_pt=8, axis_label_size=12)\n",
    "\n",
    "fig.axes[0,0].plot(t,np.sin(t))\n",
    "fig.axes[0,1].plot(t,np.cos(t))\n",
    "fig.axes[1,0].plot(t,-np.cos(t))\n",
    "fig.axes[1,1].plot(t,np.sin(t))\n",
    "\n",
    "fig.axes[0,1].set_yticklabels([])\n",
    "fig.axes[1,1].set_yticklabels([])\n",
    "fig.axes[0,0].set_xticklabels([])\n",
    "fig.axes[0,1].set_xticklabels([])\n",
    "\n",
    "fig.axes[0,0].set_ylabel(\"Blahblah\")\n",
    "fig.axes[1,0].set_ylabel(\"Blah\")\n",
    "fig.axes[1,0].set_xlabel(\"Foo\")\n",
    "fig.axes[1,1].set_xlabel(\"Bar\")\n",
    "\n",
    "\n",
    "fig, ax = fig.render()\n",
    "\n",
    "plt.savefig(\"test.pdf\")\n",
    "plt.show() #if you don't manually show, there is a weird bug where it only shows the first time you run the cell"
   ]
  },
  {
   "cell_type": "code",
   "execution_count": null,
   "id": "add2beb6-b2f9-4148-82ad-c36ec9472985",
   "metadata": {},
   "outputs": [],
   "source": [
    "\"\"\"\n",
    "Use matplotlib defaults.\n",
    "\"\"\"\n",
    "\n",
    "t = np.arange(0, 2*np.pi,0.01)\n",
    "\n",
    "fig = tzz.Figure(column_widths=[1,1], row_heights=[2,1],aspect_ratio=2/3, inner_margin_pt=8, axis_label_size=12, rc_params = {})\n",
    "\n",
    "fig.axes[0,0].plot(t,np.sin(t))\n",
    "fig.axes[0,1].plot(t,np.cos(t))\n",
    "fig.axes[1,0].plot(t,-np.cos(t))\n",
    "fig.axes[1,1].plot(t,np.sin(t))\n",
    "\n",
    "fig.axes[0,1].set_yticklabels([])\n",
    "fig.axes[1,1].set_yticklabels([])\n",
    "fig.axes[0,0].set_xticklabels([])\n",
    "fig.axes[0,1].set_xticklabels([])\n",
    "\n",
    "fig.axes[0,0].set_ylabel(\"Blahblah\")\n",
    "fig.axes[1,0].set_ylabel(\"Blah\")\n",
    "fig.axes[1,0].set_xlabel(\"Foo\")\n",
    "fig.axes[1,1].set_xlabel(\"Bar\")\n",
    "\n",
    "\n",
    "fig, ax = fig.render()\n",
    "\n",
    "plt.savefig(\"test2.pdf\")\n",
    "plt.show() #if you don't manually show, there is a weird bug where it only shows the first time you run the cell"
   ]
  },
  {
   "cell_type": "code",
   "execution_count": null,
   "id": "6e4c8262-64b2-45f6-bad6-7e61c3da666e",
   "metadata": {},
   "outputs": [],
   "source": []
  },
  {
   "cell_type": "code",
   "execution_count": null,
   "id": "4d4eacd7-622f-47d6-b078-a20761e088da",
   "metadata": {
    "tags": []
   },
   "outputs": [],
   "source": []
  },
  {
   "cell_type": "code",
   "execution_count": null,
   "id": "2ccd22bf-bbf7-4c41-bd2f-a3e363c6f92f",
   "metadata": {
    "tags": []
   },
   "outputs": [],
   "source": []
  },
  {
   "cell_type": "code",
   "execution_count": null,
   "id": "71f76d2a-4776-4b1e-bc19-f869acb4ff7f",
   "metadata": {},
   "outputs": [],
   "source": []
  }
 ],
 "metadata": {
  "kernelspec": {
   "display_name": "Python 3 (ipykernel)",
   "language": "python",
   "name": "python3"
  },
  "language_info": {
   "codemirror_mode": {
    "name": "ipython",
    "version": 3
   },
   "file_extension": ".py",
   "mimetype": "text/x-python",
   "name": "python",
   "nbconvert_exporter": "python",
   "pygments_lexer": "ipython3",
   "version": "3.11.5"
  }
 },
 "nbformat": 4,
 "nbformat_minor": 5
}
